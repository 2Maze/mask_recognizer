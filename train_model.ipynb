{
  "cells": [
    {
      "cell_type": "markdown",
      "metadata": {
        "id": "mOraohj4dth8"
      },
      "source": [
        "# Import"
      ]
    },
    {
      "cell_type": "code",
      "execution_count": null,
      "metadata": {
        "id": "If34PQcrdqXW"
      },
      "outputs": [],
      "source": [
        "import os\n",
        "import glob\n",
        "import shutil\n",
        "import random\n",
        "import tensorflow as tf\n",
        "import numpy as np\n",
        "import cv2\n",
        "import json\n",
        "import matplotlib.pyplot as plt\n",
        "import matplotlib.patches as patches\n",
        "\n",
        "from os import listdir\n",
        "from os.path import join\n",
        "from random import shuffle\n",
        "from numpy.core.records import array\n",
        "from zipfile import ZipFile\n",
        "from google.colab import drive\n",
        "from xml.etree import ElementTree as ET\n",
        "from PIL import Image\n",
        "from tensorflow.keras import Sequential, Model\n",
        "from tensorflow.keras.layers import Input, Flatten, Dense, Conv2D, MaxPooling2D, GlobalAveragePooling2D, Dropout\n",
        "from tensorflow.keras.preprocessing.image import ImageDataGenerator\n",
        "from tensorflow.keras.utils import plot_model\n",
        "from tensorflow.keras.callbacks import ModelCheckpoint\n",
        "from tensorflow.keras.applications.mobilenet_v2 import MobileNetV2\n",
        "\n",
        "%matplotlib inline"
      ]
    },
    {
      "cell_type": "markdown",
      "metadata": {
        "id": "J52EVkOJlCon"
      },
      "source": [
        "# Get dataset"
      ]
    },
    {
      "cell_type": "code",
      "source": [
        "shutil.copy(\"/content/drive/MyDrive/kaggle.json\", \"/content\")"
      ],
      "metadata": {
        "colab": {
          "base_uri": "https://localhost:8080/",
          "height": 35
        },
        "id": "qumgRKN2nNN9",
        "outputId": "01fe12d9-2ff3-455f-8818-163f5ea16603"
      },
      "execution_count": null,
      "outputs": [
        {
          "output_type": "execute_result",
          "data": {
            "application/vnd.google.colaboratory.intrinsic+json": {
              "type": "string"
            },
            "text/plain": [
              "'/content/kaggle.json'"
            ]
          },
          "metadata": {},
          "execution_count": 2
        }
      ]
    },
    {
      "cell_type": "code",
      "source": [
        "!mkdir -p ~/.kaggle/ && mv kaggle.json ~/.kaggle/ && chmod 600 ~/.kaggle/kaggle.json"
      ],
      "metadata": {
        "id": "BqDifhhToE7G"
      },
      "execution_count": null,
      "outputs": []
    },
    {
      "cell_type": "code",
      "source": [
        "!kaggle datasets download -d ashishjangra27/face-mask-12k-images-dataset"
      ],
      "metadata": {
        "colab": {
          "base_uri": "https://localhost:8080/"
        },
        "id": "NtpnDSH7Uy2H",
        "outputId": "d0b22011-3915-47b4-9b0d-9b512062bed6"
      },
      "execution_count": null,
      "outputs": [
        {
          "output_type": "stream",
          "name": "stdout",
          "text": [
            "Downloading face-mask-12k-images-dataset.zip to /content\n",
            " 98% 325M/330M [00:06<00:00, 56.1MB/s]\n",
            "100% 330M/330M [00:06<00:00, 53.7MB/s]\n"
          ]
        }
      ]
    },
    {
      "cell_type": "code",
      "execution_count": null,
      "metadata": {
        "id": "h349tVzjjE_M"
      },
      "outputs": [],
      "source": [
        "def unpack_dataset(path:str, folder:str):\n",
        "  \"\"\"\n",
        "  This function get path to zip and unpack it\n",
        "  \"\"\"\n",
        "  zip = ZipFile(path)\n",
        "  zip.extractall(folder)"
      ]
    },
    {
      "cell_type": "code",
      "execution_count": null,
      "metadata": {
        "id": "BpeixKy9tczS"
      },
      "outputs": [],
      "source": [
        "unpack_dataset(\"/content/face-mask-12k-images-dataset.zip\", \"12k_images\")"
      ]
    },
    {
      "cell_type": "markdown",
      "metadata": {
        "id": "F550wjTDdw9D"
      },
      "source": [
        "# Create dataset classes\n",
        "Time to define image generator and split dataset"
      ]
    },
    {
      "cell_type": "code",
      "execution_count": null,
      "metadata": {
        "id": "yms4GnQEdwAq",
        "colab": {
          "base_uri": "https://localhost:8080/"
        },
        "outputId": "961094b2-895d-438b-b84a-5825530056a0"
      },
      "outputs": [
        {
          "output_type": "stream",
          "name": "stdout",
          "text": [
            "Found 10000 images belonging to 2 classes.\n"
          ]
        }
      ],
      "source": [
        "train_datagen = ImageDataGenerator(rescale=1./255)\n",
        "train_generator = train_datagen.flow_from_directory(directory=\"/content/12k_images/Face Mask Dataset/Train\",\n",
        "                                                    target_size=(150, 150),\n",
        "                                                    batch_size=32,\n",
        "                                                    class_mode=\"categorical\")"
      ]
    },
    {
      "cell_type": "code",
      "source": [
        "test_datagen = ImageDataGenerator(rescale=1./255)\n",
        "test_generator = test_datagen.flow_from_directory(directory=\"/content/12k_images/Face Mask Dataset/Test\",\n",
        "                                                   target_size=(150, 150),\n",
        "                                                   batch_size=32,\n",
        "                                                   class_mode=\"categorical\")"
      ],
      "metadata": {
        "colab": {
          "base_uri": "https://localhost:8080/"
        },
        "id": "Ep6UonF2exKz",
        "outputId": "f4decbe0-b05d-4100-ae6e-db942d2ff71c"
      },
      "execution_count": null,
      "outputs": [
        {
          "output_type": "stream",
          "name": "stdout",
          "text": [
            "Found 992 images belonging to 2 classes.\n"
          ]
        }
      ]
    },
    {
      "cell_type": "code",
      "source": [
        "valid_datagen = ImageDataGenerator(rescale=1./255)\n",
        "valid_generator = valid_datagen.flow_from_directory(directory=\"/content/12k_images/Face Mask Dataset/Validation\",\n",
        "                                                    target_size=(150, 150),\n",
        "                                                    batch_size=32,\n",
        "                                                    class_mode=\"categorical\")"
      ],
      "metadata": {
        "colab": {
          "base_uri": "https://localhost:8080/"
        },
        "id": "QlQeWDDSe3uR",
        "outputId": "36fdab73-70a6-4900-bddb-cf915eec6ca5"
      },
      "execution_count": null,
      "outputs": [
        {
          "output_type": "stream",
          "name": "stdout",
          "text": [
            "Found 800 images belonging to 2 classes.\n"
          ]
        }
      ]
    },
    {
      "cell_type": "markdown",
      "metadata": {
        "id": "dGPCl_ZS4ID0"
      },
      "source": [
        "# Create models\n",
        "Well, we have a lot of images of people in mask and without it. Now we should define some functions about our future models.\n"
      ]
    },
    {
      "cell_type": "code",
      "execution_count": null,
      "metadata": {
        "id": "qQnxmJaVl4Yw"
      },
      "outputs": [],
      "source": [
        "# conv\n",
        "CONV_FILTERS = [64, 128, 256]\n",
        "CONV_KERNELS = [3, 3, 3]\n",
        "CONV_STRIDES = [1, 1, 1]\n",
        "CONV_PADDING = \"same\"\n",
        "\n",
        "# dense\n",
        "NEURONS = [128]\n",
        "USE_DROPOUT = [0]\n",
        "\n",
        "ACTIVATION = \"relu\""
      ]
    },
    {
      "cell_type": "code",
      "execution_count": null,
      "metadata": {
        "id": "gGxFX6UQ-rtX"
      },
      "outputs": [],
      "source": [
        "def get_conv_model(input_shape,\n",
        "                   output_shape,\n",
        "                   conv_filters,\n",
        "                   conv_kernels,\n",
        "                   conv_strides,\n",
        "                   conv_padding,\n",
        "                   dense_neurons,\n",
        "                   use_dropout,\n",
        "                   activation=\"relu\"\n",
        "                   ):\n",
        "  \"\"\"\n",
        "  Get a CNN\n",
        "  \"\"\"\n",
        "  input_model = Input(shape=input_shape)\n",
        "  x = input_model\n",
        "  \n",
        "  for i in range(len(conv_filters)):\n",
        "    x = Conv2D(filters      = conv_filters[i],\n",
        "               kernel_size  = conv_kernels[i],\n",
        "               strides      = conv_strides[i],\n",
        "               padding      = conv_padding,\n",
        "               activation   = activation,\n",
        "               name=\"conv_layer_\" + str(i))(x)\n",
        "    \n",
        "    x = MaxPooling2D(name=\"max_pooling_layer_\" + str(i))(x)\n",
        "  \n",
        "  # make a vector\n",
        "  x = Flatten()(x)\n",
        "  \n",
        "  for i in range(len(dense_neurons)):\n",
        "    x = Dense(units         = dense_neurons[i],\n",
        "              activation    = activation,\n",
        "              name          = \"dense_layer_\" + str(i))(x)\n",
        "    if (use_dropout[i]):\n",
        "      x = Dropout(use_dropout[i])(x)\n",
        "  \n",
        "  output_model = Dense(output_shape, activation=\"softmax\")(x)\n",
        "  model = Model(input_model, output_model)\n",
        "  \n",
        "  return model\n",
        "\n",
        "def transfer_to_MobileNetV2(output):\n",
        "  \"\"\"\n",
        "  Get model\n",
        "  \"\"\"\n",
        "  mobilenet = MobileNetV2(weights = \"imagenet\",include_top = False,input_shape=(150,150,3))\n",
        "\n",
        "  for layer in mobilenet.layers:\n",
        "    layer.trainable = False\n",
        "\n",
        "  \n",
        "  model = Sequential()\n",
        "  model.add(mobilenet)\n",
        "  model.add(GlobalAveragePooling2D())\n",
        "  model.add(Flatten())\n",
        "  model.add(Dense(300, activation=\"relu\"))\n",
        "  model.add(Dropout(0.5))\n",
        "  model.add(Dense(100,activation='relu'))\n",
        "  model.add(Dropout(0.5))\n",
        "  model.add(Dense(2,activation=\"softmax\"))\n",
        "\n",
        "  return model"
      ]
    },
    {
      "cell_type": "code",
      "execution_count": null,
      "metadata": {
        "id": "grXL35tlYF_I"
      },
      "outputs": [],
      "source": [
        "model_CNN = get_conv_model((150, 150, 3),\n",
        "                           2,\n",
        "                           CONV_FILTERS,\n",
        "                           CONV_KERNELS,\n",
        "                           CONV_STRIDES,\n",
        "                           CONV_PADDING,\n",
        "                           NEURONS,\n",
        "                           USE_DROPOUT)"
      ]
    },
    {
      "cell_type": "code",
      "execution_count": null,
      "metadata": {
        "id": "QnS2sp6NabN3",
        "colab": {
          "base_uri": "https://localhost:8080/"
        },
        "outputId": "1d7207f5-43db-4313-bfb5-8a01959476af"
      },
      "outputs": [
        {
          "output_type": "stream",
          "name": "stdout",
          "text": [
            "Model: \"model\"\n",
            "_________________________________________________________________\n",
            " Layer (type)                Output Shape              Param #   \n",
            "=================================================================\n",
            " input_1 (InputLayer)        [(None, 150, 150, 3)]     0         \n",
            "                                                                 \n",
            " conv_layer_0 (Conv2D)       (None, 150, 150, 64)      1792      \n",
            "                                                                 \n",
            " max_pooling_layer_0 (MaxPoo  (None, 75, 75, 64)       0         \n",
            " ling2D)                                                         \n",
            "                                                                 \n",
            " conv_layer_1 (Conv2D)       (None, 75, 75, 128)       73856     \n",
            "                                                                 \n",
            " max_pooling_layer_1 (MaxPoo  (None, 37, 37, 128)      0         \n",
            " ling2D)                                                         \n",
            "                                                                 \n",
            " conv_layer_2 (Conv2D)       (None, 37, 37, 256)       295168    \n",
            "                                                                 \n",
            " max_pooling_layer_2 (MaxPoo  (None, 18, 18, 256)      0         \n",
            " ling2D)                                                         \n",
            "                                                                 \n",
            " flatten (Flatten)           (None, 82944)             0         \n",
            "                                                                 \n",
            " dense_layer_0 (Dense)       (None, 128)               10616960  \n",
            "                                                                 \n",
            " dense (Dense)               (None, 2)                 258       \n",
            "                                                                 \n",
            "=================================================================\n",
            "Total params: 10,988,034\n",
            "Trainable params: 10,988,034\n",
            "Non-trainable params: 0\n",
            "_________________________________________________________________\n"
          ]
        }
      ],
      "source": [
        "model_CNN.summary()"
      ]
    },
    {
      "cell_type": "markdown",
      "source": [
        "Our model have a lot of weights"
      ],
      "metadata": {
        "id": "6Wbud4zR07nt"
      }
    },
    {
      "cell_type": "code",
      "execution_count": null,
      "metadata": {
        "id": "G7XcGiA6lt1L"
      },
      "outputs": [],
      "source": [
        "model_CNN.compile(optimizer='adam',\n",
        "                  loss=\"categorical_crossentropy\",\n",
        "                  metrics=['accuracy'])"
      ]
    },
    {
      "cell_type": "markdown",
      "source": [
        "# Fit conv model"
      ],
      "metadata": {
        "id": "KTpPKIKzQLcY"
      }
    },
    {
      "cell_type": "code",
      "execution_count": null,
      "metadata": {
        "id": "37-fzpolmqsi",
        "colab": {
          "base_uri": "https://localhost:8080/"
        },
        "outputId": "1d03bca0-e043-46bd-d274-52787d63f7cb"
      },
      "outputs": [
        {
          "output_type": "stream",
          "name": "stdout",
          "text": [
            "Epoch 1/5\n",
            "313/313 [==============================] - 43s 104ms/step - loss: 0.1774 - accuracy: 0.9345 - val_loss: 0.0604 - val_accuracy: 0.9812\n",
            "Epoch 2/5\n",
            "313/313 [==============================] - 34s 107ms/step - loss: 0.0656 - accuracy: 0.9756 - val_loss: 0.0337 - val_accuracy: 0.9875\n",
            "Epoch 3/5\n",
            "313/313 [==============================] - 31s 100ms/step - loss: 0.0380 - accuracy: 0.9875 - val_loss: 0.0358 - val_accuracy: 0.9850\n",
            "Epoch 4/5\n",
            "313/313 [==============================] - 31s 99ms/step - loss: 0.0291 - accuracy: 0.9900 - val_loss: 0.0187 - val_accuracy: 0.9900\n",
            "Epoch 5/5\n",
            "313/313 [==============================] - 31s 99ms/step - loss: 0.0213 - accuracy: 0.9919 - val_loss: 0.0155 - val_accuracy: 0.9925\n"
          ]
        }
      ],
      "source": [
        "history = model_CNN.fit(train_generator,\n",
        "                        epochs=5,\n",
        "                        validation_data=valid_generator)"
      ]
    },
    {
      "cell_type": "code",
      "source": [
        "plt.plot(history.history['accuracy'])\n",
        "plt.plot(history.history['val_accuracy'])\n",
        "plt.title('model accuracy')\n",
        "plt.ylabel('accuracy')\n",
        "plt.xlabel('epoch')\n",
        "plt.legend(['train', 'test'], loc='upper left')\n",
        "plt.show()\n",
        "\n",
        "plt.plot(history.history['loss'])\n",
        "plt.plot(history.history['val_loss'])\n",
        "plt.title('model loss')\n",
        "plt.ylabel('loss')\n",
        "plt.xlabel('epoch')\n",
        "plt.legend(['train', 'test'], loc='upper left')\n",
        "plt.show()"
      ],
      "metadata": {
        "colab": {
          "base_uri": "https://localhost:8080/",
          "height": 573
        },
        "id": "mlHu4EyLvOh_",
        "outputId": "48e3ca01-2f43-48b4-96a7-dbc5bfe4a58c"
      },
      "execution_count": null,
      "outputs": [
        {
          "output_type": "display_data",
          "data": {
            "image/png": "[encoded data removed]",
            "text/plain": [
              "<Figure size 432x288 with 1 Axes>"
            ]
          },
          "metadata": {
            "needs_background": "light"
          }
        },
        {
          "output_type": "display_data",
          "data": {
            "image/png": "[encoded data removed]",
            "text/plain": [
              "<Figure size 432x288 with 1 Axes>"
            ]
          },
          "metadata": {
            "needs_background": "light"
          }
        }
      ]
    },
    {
      "cell_type": "code",
      "source": [
        "model_CNN.evaluate(test_generator)"
      ],
      "metadata": {
        "colab": {
          "base_uri": "https://localhost:8080/"
        },
        "id": "mxLIO-9uiFk4",
        "outputId": "9f38645b-c07c-4172-bb6b-5b7f98a0e760"
      },
      "execution_count": null,
      "outputs": [
        {
          "output_type": "stream",
          "name": "stdout",
          "text": [
            "31/31 [==============================] - 2s 63ms/step - loss: 0.0236 - accuracy: 0.9919\n"
          ]
        },
        {
          "output_type": "execute_result",
          "data": {
            "text/plain": [
              "[0.023640817031264305, 0.9919354915618896]"
            ]
          },
          "metadata": {},
          "execution_count": 17
        }
      ]
    },
    {
      "cell_type": "code",
      "execution_count": null,
      "metadata": {
        "id": "sKPiUBu3x98r"
      },
      "outputs": [],
      "source": [
        "model_CNN.save(\"model_CNN.h5\")"
      ]
    },
    {
      "cell_type": "markdown",
      "source": [
        "# Transfer learning on MobileNetV2"
      ],
      "metadata": {
        "id": "bj1JqAFFZipH"
      }
    },
    {
      "cell_type": "code",
      "source": [
        "model = transfer_to_MobileNetV2(2)"
      ],
      "metadata": {
        "colab": {
          "base_uri": "https://localhost:8080/"
        },
        "id": "_xXyfYWouKRk",
        "outputId": "91bcaae2-7168-4cc0-e622-c56e73beba05"
      },
      "execution_count": null,
      "outputs": [
        {
          "output_type": "stream",
          "name": "stdout",
          "text": [
            "WARNING:tensorflow:`input_shape` is undefined or non-square, or `rows` is not in [96, 128, 160, 192, 224]. Weights for input shape (224, 224) will be loaded as the default.\n",
            "Downloading data from https://storage.googleapis.com/tensorflow/keras-applications/mobilenet_v2/mobilenet_v2_weights_tf_dim_ordering_tf_kernels_1.0_224_no_top.h5\n",
            "9412608/9406464 [==============================] - 0s 0us/step\n",
            "9420800/9406464 [==============================] - 0s 0us/step\n"
          ]
        }
      ]
    },
    {
      "cell_type": "code",
      "source": [
        "model.summary()"
      ],
      "metadata": {
        "colab": {
          "base_uri": "https://localhost:8080/"
        },
        "id": "CpQMd-h8wYr2",
        "outputId": "f68a4524-d101-4ad9-b4d9-3d896f4fd7e6"
      },
      "execution_count": null,
      "outputs": [
        {
          "output_type": "stream",
          "name": "stdout",
          "text": [
            "Model: \"sequential\"\n",
            "_________________________________________________________________\n",
            " Layer (type)                Output Shape              Param #   \n",
            "=================================================================\n",
            " mobilenetv2_1.00_224 (Funct  (None, 5, 5, 1280)       2257984   \n",
            " ional)                                                          \n",
            "                                                                 \n",
            " global_average_pooling2d (G  (None, 1280)             0         \n",
            " lobalAveragePooling2D)                                          \n",
            "                                                                 \n",
            " flatten_1 (Flatten)         (None, 1280)              0         \n",
            "                                                                 \n",
            " dense_1 (Dense)             (None, 300)               384300    \n",
            "                                                                 \n",
            " dropout (Dropout)           (None, 300)               0         \n",
            "                                                                 \n",
            " dense_2 (Dense)             (None, 100)               30100     \n",
            "                                                                 \n",
            " dropout_1 (Dropout)         (None, 100)               0         \n",
            "                                                                 \n",
            " dense_3 (Dense)             (None, 2)                 202       \n",
            "                                                                 \n",
            "=================================================================\n",
            "Total params: 2,672,586\n",
            "Trainable params: 414,602\n",
            "Non-trainable params: 2,257,984\n",
            "_________________________________________________________________\n"
          ]
        }
      ]
    },
    {
      "cell_type": "code",
      "source": [
        "model.compile(optimizer=\"adam\", loss=\"categorical_crossentropy\", metrics =\"accuracy\")"
      ],
      "metadata": {
        "id": "uJGS_1O-waRN"
      },
      "execution_count": null,
      "outputs": []
    },
    {
      "cell_type": "code",
      "source": [
        "model.fit(train_generator, epochs=3, validation_data=valid_generator)"
      ],
      "metadata": {
        "colab": {
          "base_uri": "https://localhost:8080/"
        },
        "id": "SvJn_rguydTg",
        "outputId": "2cbaee6e-a5d4-48ad-b3c4-bd225af5332b"
      },
      "execution_count": null,
      "outputs": [
        {
          "output_type": "stream",
          "name": "stdout",
          "text": [
            "Epoch 1/3\n",
            "313/313 [==============================] - 29s 80ms/step - loss: 0.1082 - accuracy: 0.9629 - val_loss: 0.0439 - val_accuracy: 0.9812\n",
            "Epoch 2/3\n",
            "313/313 [==============================] - 23s 75ms/step - loss: 0.0484 - accuracy: 0.9854 - val_loss: 0.0271 - val_accuracy: 0.9912\n",
            "Epoch 3/3\n",
            "313/313 [==============================] - 23s 74ms/step - loss: 0.0282 - accuracy: 0.9908 - val_loss: 0.0142 - val_accuracy: 0.9950\n"
          ]
        },
        {
          "output_type": "execute_result",
          "data": {
            "text/plain": [
              "<keras.callbacks.History at 0x7f6a9035c8d0>"
            ]
          },
          "metadata": {},
          "execution_count": 22
        }
      ]
    },
    {
      "cell_type": "code",
      "source": [
        "model.evaluate(test_generator)"
      ],
      "metadata": {
        "id": "jK9M-63WwTTJ",
        "colab": {
          "base_uri": "https://localhost:8080/"
        },
        "outputId": "651fe7c1-ae80-4737-ea2f-9873a111bb3c"
      },
      "execution_count": null,
      "outputs": [
        {
          "output_type": "stream",
          "name": "stdout",
          "text": [
            "31/31 [==============================] - 2s 68ms/step - loss: 0.0159 - accuracy: 0.9950\n"
          ]
        },
        {
          "output_type": "execute_result",
          "data": {
            "text/plain": [
              "[0.015881789848208427, 0.9949596524238586]"
            ]
          },
          "metadata": {},
          "execution_count": 23
        }
      ]
    },
    {
      "cell_type": "code",
      "source": [
        "model.save(\"mask_recog.h5\")"
      ],
      "metadata": {
        "colab": {
          "base_uri": "https://localhost:8080/"
        },
        "id": "xGrPqfS6F0Qn",
        "outputId": "89d2e71d-0bee-43c3-bd12-0634c582b807"
      },
      "execution_count": null,
      "outputs": [
        {
          "output_type": "stream",
          "name": "stderr",
          "text": [
            "/usr/local/lib/python3.7/dist-packages/keras/engine/functional.py:1410: CustomMaskWarning: Custom mask layers require a config and must override get_config. When loading, the custom mask layer must be passed to the custom_objects argument.\n",
            "  layer_config = serialize_layer_fn(layer)\n"
          ]
        }
      ]
    },
    {
      "cell_type": "markdown",
      "source": [
        "# Summary "
      ],
      "metadata": {
        "id": "LxjMkjLDy8Ev"
      }
    },
    {
      "cell_type": "markdown",
      "source": [
        "And now see how it work"
      ],
      "metadata": {
        "id": "Vy9RCWakzBXo"
      }
    },
    {
      "cell_type": "code",
      "source": [
        "!kaggle datasets download -d andrewmvd/face-mask-detection"
      ],
      "metadata": {
        "id": "kGszoWVR3_hR",
        "colab": {
          "base_uri": "https://localhost:8080/"
        },
        "outputId": "5a174530-31e9-4906-a731-b10139547adc"
      },
      "execution_count": null,
      "outputs": [
        {
          "output_type": "stream",
          "name": "stdout",
          "text": [
            "Downloading face-mask-detection.zip to /content\n",
            " 97% 384M/398M [00:02<00:00, 187MB/s]\n",
            "100% 398M/398M [00:02<00:00, 182MB/s]\n"
          ]
        }
      ]
    },
    {
      "cell_type": "code",
      "source": [
        "!kaggle datasets download -d lalitharajesh/haarcascades"
      ],
      "metadata": {
        "colab": {
          "base_uri": "https://localhost:8080/"
        },
        "id": "3Ou6mDDqHrBw",
        "outputId": "4467c998-a510-4dc4-fd78-da0223f4d453"
      },
      "execution_count": null,
      "outputs": [
        {
          "output_type": "stream",
          "name": "stdout",
          "text": [
            "Downloading haarcascades.zip to /content\n",
            "\r  0% 0.00/1.45M [00:00<?, ?B/s]\n",
            "\r100% 1.45M/1.45M [00:00<00:00, 48.8MB/s]\n"
          ]
        }
      ]
    },
    {
      "cell_type": "code",
      "source": [
        "unpack_dataset(\"/content/face-mask-detection.zip\", \"testing\")"
      ],
      "metadata": {
        "id": "XCPZ6H73F7Am"
      },
      "execution_count": null,
      "outputs": []
    },
    {
      "cell_type": "code",
      "source": [
        "unpack_dataset(\"/content/haarcascades.zip\", \"haarcascades\")"
      ],
      "metadata": {
        "id": "k0bnMq5xHu3T"
      },
      "execution_count": null,
      "outputs": []
    },
    {
      "cell_type": "code",
      "source": [
        "def locata_and_recognize(path_to_image):\n",
        "  face_cascade = cv2.CascadeClassifier(\"/content/haarcascades/haarcascade_frontalface_default.xml\")\n",
        "\n",
        "  img = cv2.imread(path_to_image)\n",
        "  img = cv2.cvtColor(img, cv2.IMREAD_GRAYSCALE)\n",
        "  faces = face_cascade.detectMultiScale(img, scaleFactor=1.05, minNeighbors=5)\n",
        "  new_img = cv2.cvtColor(img, cv2.COLOR_RGB2BGR)\n",
        "\n",
        "  for i in range(len(faces)):\n",
        "    (x,y,w,h) = faces[i]\n",
        "    cv2.rectangle(new_img,(x,y),(x+w,y+h),(255,0,0),1)\n",
        "    crop = new_img[y:y+h,x:x+w]\n",
        "    crop = cv2.resize(crop,(150,150))\n",
        "    crop = np.reshape(crop,[1,150,150,3]) / 255\n",
        "    mask_result = model.predict(crop)\n",
        "    if np.argmax(mask_result) == 0:\n",
        "      print(\"With mask\")\n",
        "    elif np.argmax(mask_result) == 1:\n",
        "      print(\"No mask\")\n",
        "  plt.imshow(new_img)"
      ],
      "metadata": {
        "id": "TkoesQjAGDI8"
      },
      "execution_count": null,
      "outputs": []
    },
    {
      "cell_type": "code",
      "source": [
        "locata_and_recognize(join(\"/content/testing/images\", random.choice(listdir(\"/content/testing/images\"))))"
      ],
      "metadata": {
        "colab": {
          "base_uri": "https://localhost:8080/",
          "height": 321
        },
        "id": "tKACfcoBNGUI",
        "outputId": "2d8e6eac-00ff-47ae-813c-6663a8ffbdc2"
      },
      "execution_count": null,
      "outputs": [
        {
          "output_type": "stream",
          "name": "stdout",
          "text": [
            "With mask\n",
            "With mask\n",
            "With mask\n"
          ]
        },
        {
          "output_type": "display_data",
          "data": {
            "image/png": "[encoded data removed]",
            "text/plain": [
              "<Figure size 432x288 with 1 Axes>"
            ]
          },
          "metadata": {
            "needs_background": "light"
          }
        }
      ]
    }
  ],
  "metadata": {
    "colab": {
      "collapsed_sections": [],
      "name": "Mask_recognizer_other.ipynb",
      "provenance": []
    },
    "kernelspec": {
      "display_name": "Python 3",
      "name": "python3"
    },
    "language_info": {
      "name": "python"
    },
    "accelerator": "GPU"
  },
  "nbformat": 4,
  "nbformat_minor": 0
}